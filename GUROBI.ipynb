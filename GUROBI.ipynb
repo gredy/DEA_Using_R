{
  "nbformat": 4,
  "nbformat_minor": 0,
  "metadata": {
    "colab": {
      "private_outputs": true,
      "provenance": [],
      "authorship_tag": "ABX9TyNxFTYjhkYopceY+ymZWDRS",
      "include_colab_link": true
    },
    "kernelspec": {
      "name": "python3",
      "display_name": "Python 3"
    },
    "language_info": {
      "name": "python"
    }
  },
  "cells": [
    {
      "cell_type": "markdown",
      "metadata": {
        "id": "view-in-github",
        "colab_type": "text"
      },
      "source": [
        "<a href=\"https://colab.research.google.com/github/gredy/DEA_Using_R/blob/master/GUROBI.ipynb\" target=\"_parent\"><img src=\"https://colab.research.google.com/assets/colab-badge.svg\" alt=\"Open In Colab\"/></a>"
      ]
    },
    {
      "cell_type": "code",
      "execution_count": null,
      "metadata": {
        "id": "aeFGZL9avx5Y"
      },
      "outputs": [],
      "source": [
        "!python -m pip install gurobipy"
      ]
    },
    {
      "cell_type": "code",
      "source": [
        "import gurobipy as gp\n",
        "from gurobipy import GRB\n",
        "\n",
        "\n",
        "# Data\n",
        "cities = {\"Atlanta\", \"Boston\", \"Charlotte\", \"Detroit\"}\n",
        "north = {\"Boston\", \"Detroit\"}\n",
        "assert north.issubset(cities)\n",
        "south = {\"Atlanta\", \"Charlotte\"}\n",
        "assert south.issubset(cities)\n",
        "\n",
        "\n",
        "model = gp.Model(\"invest\")\n",
        "\n",
        "\n",
        "# Variables: millions of dollars invested in each city\n",
        "x = model.addVars(cities,lb=2,ub=8,name=\"x\")\n",
        "\n",
        "\n",
        "# Objective: maximize predicted increase\n",
        "priceIncrease={\"Atlanta\":0.11,\"Boston\": 0.02,\"Charlotte\":0.04,\"Detroit\":0.03}\n",
        "model.setObjective(x.prod(priceIncrease),GRB.MAXIMIZE)\n",
        "\n",
        "\n",
        "# Constraint: Budget of $20 million\n",
        "model.addConstr(x.sum()<=20,name=\"Budget\")\n",
        "\n",
        "# Constraints: Regional limits of $12 million\n",
        "model.addConstr(gp.quicksum(x.select(north)) <= 12,name=\"NorthBudget\")\n",
        "model.addConstr(gp.quicksum(x.select(south)) <= 12,name=\"SouthBudget\")\n",
        "\n",
        "# Constraints: City min of $2 million and max of $8 million (for each city)\n",
        "# No constraints needed because the lower\n",
        "# and upper bounds for these variables are\n",
        "# defined in the variable definitions\n",
        "\n",
        "\n",
        "# Optimize\n",
        "model.optimize()\n",
        "\n",
        "print(f\"Predicted value increase = ${round(model.ObjVal,2)} million\")\n",
        "for city in cities:\n",
        "    print(f\"Invest ${round(x[city].X,1)} million in {city}\")\n",
        "\n"
      ],
      "metadata": {
        "id": "v8cTQ26kFzEj"
      },
      "execution_count": null,
      "outputs": []
    }
  ]
}